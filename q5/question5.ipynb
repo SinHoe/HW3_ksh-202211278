{
 "cells": [
  {
   "cell_type": "code",
   "execution_count": 17,
   "id": "efb0b00a",
   "metadata": {},
   "outputs": [
    {
     "name": "stdout",
     "output_type": "stream",
     "text": [
      "Two roads diverged in a yellow wood, And sorry I could not travel both And be one traveler, long I stood And looked down one as far as I could To where it bent in the undergrowth;\n",
      "--------------------------------------reverse--------------------------------------------\n",
      "undergrowth; the in bent it where To could I as far as one down looked And stood I long traveler, one be And both travel not could I sorry And wood, yellow a in diverged roads Two\n",
      "=========================================================================================\n",
      "Then took the other, as just as fair, And having perhaps the better claim, Because it was grassy and wanted wear; Though as for that the passing there Had worn them really about the same,\n",
      "--------------------------------------reverse--------------------------------------------\n",
      "same, the about really them worn Had there passing the that for as Though wear; wanted and grassy was it Because claim, better the perhaps having And fair, as just as other, the took Then\n",
      "=========================================================================================\n",
      "Screenshot your result.\n",
      "--------------------------------------reverse--------------------------------------------\n",
      "result. your Screenshot\n",
      "=========================================================================================\n",
      "Don’t forget to add __main__\n",
      "--------------------------------------reverse--------------------------------------------\n",
      "__main__ add to forget Don’t\n"
     ]
    }
   ],
   "source": [
    "def reverse_words(string):\n",
    "    string_list = string.split()\n",
    "    \n",
    "    k = len(string_list)-1\n",
    "    reverse = string_list[k]\n",
    "    \n",
    "    for i in range(k-1,-1,-1):\n",
    "        reverse = reverse + \" \" +string_list[i]\n",
    "    return reverse\n",
    "if __name__ == \"__main__\":\n",
    "    string = \"Two roads diverged in a yellow wood, And sorry I could not travel both And be one traveler, long I stood And looked down one as far as I could To where it bent in the undergrowth;\"\n",
    "    print(string)\n",
    "    print(\"--------------------------------------reverse--------------------------------------------\")\n",
    "    print(reverse_words(string))\n",
    "    \n",
    "    string = \"Then took the other, as just as fair, And having perhaps the better claim, Because it was grassy and wanted wear; Though as for that the passing there Had worn them really about the same,\"\n",
    "    print(\"=========================================================================================\")\n",
    "    print(string)\n",
    "    print(\"--------------------------------------reverse--------------------------------------------\")\n",
    "    print(reverse_words(string))\n",
    "    \n",
    "    string = \"Screenshot your result.\"\n",
    "    print(\"=========================================================================================\")\n",
    "    print(string)\n",
    "    print(\"--------------------------------------reverse--------------------------------------------\")\n",
    "    print(reverse_words(string))\n",
    "    \n",
    "    string = \"Don’t forget to add __main__\"\n",
    "    print(\"=========================================================================================\")\n",
    "    print(string)\n",
    "    print(\"--------------------------------------reverse--------------------------------------------\")\n",
    "    print(reverse_words(string))\n",
    "    "
   ]
  },
  {
   "cell_type": "code",
   "execution_count": null,
   "id": "92634a6a",
   "metadata": {},
   "outputs": [],
   "source": []
  },
  {
   "cell_type": "code",
   "execution_count": null,
   "id": "d30379c0",
   "metadata": {},
   "outputs": [],
   "source": []
  }
 ],
 "metadata": {
  "kernelspec": {
   "display_name": "Python 3 (ipykernel)",
   "language": "python",
   "name": "python3"
  },
  "language_info": {
   "codemirror_mode": {
    "name": "ipython",
    "version": 3
   },
   "file_extension": ".py",
   "mimetype": "text/x-python",
   "name": "python",
   "nbconvert_exporter": "python",
   "pygments_lexer": "ipython3",
   "version": "3.9.13"
  }
 },
 "nbformat": 4,
 "nbformat_minor": 5
}
