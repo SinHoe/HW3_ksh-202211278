{
 "cells": [
  {
   "cell_type": "code",
   "execution_count": 16,
   "id": "d8267f72",
   "metadata": {},
   "outputs": [
    {
     "name": "stdout",
     "output_type": "stream",
     "text": [
      "0 ! =  1\n",
      "2 ! =  2\n",
      "4 ! =  24\n",
      "6 ! =  720\n",
      "8 ! =  40320\n",
      "10 ! =  3628800\n",
      "12 ! =  479001600\n",
      "14 ! =  87178291200\n"
     ]
    }
   ],
   "source": [
    "def factorial(a):\n",
    "\n",
    "    result = 1\n",
    "    if (a !=0 ):\n",
    "        for i in range(a,1,-1):\n",
    "              result = result * i\n",
    "    return result\n",
    "    \n",
    "if __name__ == \"__main__\":\n",
    "\n",
    "    for i in range(0,15,2):\n",
    "        print(i,\"! = \",factorial(i))\n",
    "\n"
   ]
  },
  {
   "cell_type": "code",
   "execution_count": null,
   "id": "c33ed737",
   "metadata": {},
   "outputs": [],
   "source": []
  }
 ],
 "metadata": {
  "kernelspec": {
   "display_name": "Python 3 (ipykernel)",
   "language": "python",
   "name": "python3"
  },
  "language_info": {
   "codemirror_mode": {
    "name": "ipython",
    "version": 3
   },
   "file_extension": ".py",
   "mimetype": "text/x-python",
   "name": "python",
   "nbconvert_exporter": "python",
   "pygments_lexer": "ipython3",
   "version": "3.9.13"
  }
 },
 "nbformat": 4,
 "nbformat_minor": 5
}
